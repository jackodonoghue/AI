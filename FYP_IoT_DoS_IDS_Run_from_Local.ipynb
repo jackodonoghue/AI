{
  "nbformat": 4,
  "nbformat_minor": 0,
  "metadata": {
    "colab": {
      "name": "FYP_IoT_DoS_IDS_Run_from_Local.ipynb",
      "provenance": [],
      "collapsed_sections": [],
      "toc_visible": true,
      "mount_file_id": "1HFu2fD2NnYVWkTVeXIBQqazqnoRHoG9b",
      "authorship_tag": "ABX9TyPp3pqkvPrYlI3Www1KuXqP",
      "include_colab_link": true
    },
    "kernelspec": {
      "display_name": "Python 3",
      "name": "python3"
    },
    "language_info": {
      "name": "python"
    }
  },
  "cells": [
    {
      "cell_type": "markdown",
      "metadata": {
        "id": "view-in-github",
        "colab_type": "text"
      },
      "source": [
        "<a href=\"https://colab.research.google.com/github/jackodonoghue/A-DS/blob/master/FYP_IoT_DoS_IDS_Run_from_Local.ipynb\" target=\"_parent\"><img src=\"https://colab.research.google.com/assets/colab-badge.svg\" alt=\"Open In Colab\"/></a>"
      ]
    },
    {
      "cell_type": "markdown",
      "metadata": {
        "id": "kmFsMpWyR3wf"
      },
      "source": [
        "#Import files"
      ]
    },
    {
      "cell_type": "code",
      "metadata": {
        "colab": {
          "resources": {
            "http://localhost:8080/nbextensions/google.colab/files.js": {
              "data": "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",
              "ok": true,
              "headers": [
                [
                  "content-type",
                  "application/javascript"
                ]
              ],
              "status": 200,
              "status_text": ""
            }
          },
          "base_uri": "https://localhost:8080/",
          "height": 280
        },
        "id": "z0pOc4aW4A5d",
        "outputId": "8393f162-52a9-4dc2-c048-8d0881ddecfa"
      },
      "source": [
        "from google.colab import files\n",
        "\n",
        "uploaded = files.upload()"
      ],
      "execution_count": null,
      "outputs": [
        {
          "output_type": "display_data",
          "data": {
            "text/html": [
              "\n",
              "     <input type=\"file\" id=\"files-4e333226-7651-4c67-9a97-0b861e5bfa86\" name=\"files[]\" multiple disabled\n",
              "        style=\"border:none\" />\n",
              "     <output id=\"result-4e333226-7651-4c67-9a97-0b861e5bfa86\">\n",
              "      Upload widget is only available when the cell has been executed in the\n",
              "      current browser session. Please rerun this cell to enable.\n",
              "      </output>\n",
              "      <script src=\"/nbextensions/google.colab/files.js\"></script> "
            ],
            "text/plain": [
              "<IPython.core.display.HTML object>"
            ]
          },
          "metadata": {
            "tags": []
          }
        },
        {
          "output_type": "stream",
          "text": [
            "Saving wireshark_benign_1884.csv to wireshark_benign_1884.csv\n",
            "Saving wireshark_benign_1884_2.csv to wireshark_benign_1884_2.csv\n",
            "Saving wireshark_benign_9022.csv to wireshark_benign_9022.csv\n",
            "Saving wireshark_benign_9022_bbbb.csv to wireshark_benign_9022_bbbb.csv\n",
            "Saving wireshark_udpflood_10231_aaaa.csv to wireshark_udpflood_10231_aaaa.csv\n",
            "Saving wireshark_udpflood_60001_aaaa.csv to wireshark_udpflood_60001_aaaa.csv\n",
            "Saving wireshark_udpflood_60001_bbbb.csv to wireshark_udpflood_60001_bbbb.csv\n"
          ],
          "name": "stdout"
        }
      ]
    },
    {
      "cell_type": "code",
      "metadata": {
        "id": "oNNTmXF8-ZPB"
      },
      "source": [
        "#imports\n",
        "import pandas as pd"
      ],
      "execution_count": null,
      "outputs": []
    },
    {
      "cell_type": "code",
      "metadata": {
        "id": "Eg6E5hMr2Tda"
      },
      "source": [
        "#read in data\n",
        "#Benign\n",
        "wireshark_benign_1884=pd.read_csv(open('/content/wireshark_benign_1884.csv'))\n",
        "wireshark_benign_1884_2=pd.read_csv(open('/content/wireshark_benign_1884_2.csv'))\n",
        "wireshark_benign_9022=pd.read_csv(open('/content/wireshark_benign_9022.csv'))\n",
        "wireshark_benign_9022_bbbb=pd.read_csv(open('/content/wireshark_benign_9022_bbbb.csv'))\n",
        "\n",
        "#DoS\n",
        "wireshark_udpflood_10231=pd.read_csv(open('/content/wireshark_udpflood_10231_aaaa.csv'))\n",
        "wireshark_udpflood_60001_bbbb=pd.read_csv(open('/content/wireshark_udpflood_60001_bbbb.csv'))"
      ],
      "execution_count": null,
      "outputs": []
    },
    {
      "cell_type": "code",
      "metadata": {
        "colab": {
          "base_uri": "https://localhost:8080/",
          "height": 197
        },
        "id": "AtkbY0LSjR2s",
        "outputId": "e0b46c33-a112-4b89-e8c8-2392445baaf6"
      },
      "source": [
        "wireshark_benign_1884.head()"
      ],
      "execution_count": null,
      "outputs": [
        {
          "output_type": "execute_result",
          "data": {
            "text/html": [
              "<div>\n",
              "<style scoped>\n",
              "    .dataframe tbody tr th:only-of-type {\n",
              "        vertical-align: middle;\n",
              "    }\n",
              "\n",
              "    .dataframe tbody tr th {\n",
              "        vertical-align: top;\n",
              "    }\n",
              "\n",
              "    .dataframe thead th {\n",
              "        text-align: right;\n",
              "    }\n",
              "</style>\n",
              "<table border=\"1\" class=\"dataframe\">\n",
              "  <thead>\n",
              "    <tr style=\"text-align: right;\">\n",
              "      <th></th>\n",
              "      <th>No.</th>\n",
              "      <th>Time</th>\n",
              "      <th>Source</th>\n",
              "      <th>Destination</th>\n",
              "      <th>Protocol</th>\n",
              "      <th>Length</th>\n",
              "      <th>Info</th>\n",
              "    </tr>\n",
              "  </thead>\n",
              "  <tbody>\n",
              "    <tr>\n",
              "      <th>0</th>\n",
              "      <td>1</td>\n",
              "      <td>0.000000</td>\n",
              "      <td>fe80::504e:9624:3ae7:90c3</td>\n",
              "      <td>ff02::2</td>\n",
              "      <td>ICMPv6</td>\n",
              "      <td>48</td>\n",
              "      <td>Router Solicitation</td>\n",
              "    </tr>\n",
              "    <tr>\n",
              "      <th>1</th>\n",
              "      <td>2</td>\n",
              "      <td>15.611043</td>\n",
              "      <td>fe80::504e:9624:3ae7:90c3</td>\n",
              "      <td>ff02::2</td>\n",
              "      <td>ICMPv6</td>\n",
              "      <td>48</td>\n",
              "      <td>Router Solicitation</td>\n",
              "    </tr>\n",
              "    <tr>\n",
              "      <th>2</th>\n",
              "      <td>3</td>\n",
              "      <td>18.363585</td>\n",
              "      <td>aaaa::c30c:0:0:2</td>\n",
              "      <td>aaaa::1</td>\n",
              "      <td>UDP</td>\n",
              "      <td>70</td>\n",
              "      <td>1884  &gt;  1884 Len=22</td>\n",
              "    </tr>\n",
              "    <tr>\n",
              "      <th>3</th>\n",
              "      <td>4</td>\n",
              "      <td>18.364787</td>\n",
              "      <td>aaaa::1</td>\n",
              "      <td>aaaa::c30c:0:0:2</td>\n",
              "      <td>UDP</td>\n",
              "      <td>51</td>\n",
              "      <td>1884  &gt;  1884 Len=3</td>\n",
              "    </tr>\n",
              "    <tr>\n",
              "      <th>4</th>\n",
              "      <td>5</td>\n",
              "      <td>18.412857</td>\n",
              "      <td>aaaa::c30c:0:0:2</td>\n",
              "      <td>aaaa::1</td>\n",
              "      <td>UDP</td>\n",
              "      <td>62</td>\n",
              "      <td>1884  &gt;  1884 Len=14</td>\n",
              "    </tr>\n",
              "  </tbody>\n",
              "</table>\n",
              "</div>"
            ],
            "text/plain": [
              "   No.       Time  ... Length                  Info\n",
              "0    1   0.000000  ...     48   Router Solicitation\n",
              "1    2  15.611043  ...     48   Router Solicitation\n",
              "2    3  18.363585  ...     70  1884  >  1884 Len=22\n",
              "3    4  18.364787  ...     51   1884  >  1884 Len=3\n",
              "4    5  18.412857  ...     62  1884  >  1884 Len=14\n",
              "\n",
              "[5 rows x 7 columns]"
            ]
          },
          "metadata": {
            "tags": []
          },
          "execution_count": 4
        }
      ]
    },
    {
      "cell_type": "markdown",
      "metadata": {
        "id": "S4H8XoCwSD6V"
      },
      "source": [
        "#Preprocessing"
      ]
    },
    {
      "cell_type": "code",
      "metadata": {
        "id": "u8sOIPgey2e8"
      },
      "source": [
        "#imports\n",
        "import numpy as np\n",
        "from sklearn.preprocessing import LabelEncoder\n",
        "import seaborn as sns\n",
        "pd.options.mode.chained_assignment = None  # default='warn'"
      ],
      "execution_count": null,
      "outputs": []
    },
    {
      "cell_type": "code",
      "metadata": {
        "id": "nqGboBOHvshi"
      },
      "source": [
        "#functions\n",
        "def clean(df_to_clean, packet_type):\n",
        "  #remove rows from unnessesary row\n",
        "  df=df_to_clean[df_to_clean.Protocol=='UDP']\n",
        "  df['Target'] = pd.Series(packet_type, index=df.index)\n",
        "  #change time to time since last packet\n",
        "  df['Time']=time_to_duration(df['Time'])\n",
        "  #split Info column\n",
        "  df=df.join(df.Info.str.split(expand=True))\n",
        "  #drop Info column and column with '>'\n",
        "  df=df.drop(['No.', 'Info', 1], axis=1)\n",
        "  #remove 'Len=' from length columns\n",
        "  df[3] = df[3].str.extract('(\\d+)', expand=False)\n",
        "  df.rename(columns={'Time': 'Duration', 'Source':'SourceIP', 'Destination': 'DestinationIP', 0: 'SourcePort', 2: 'DestinationPort', 3:'InfoLength'}, inplace=True)\n",
        " # df=categorical_to_numeric(df)\n",
        "  return df\n",
        "\n",
        "#change duration to time\n",
        "def time_to_duration(time):\n",
        "  time=time.tolist()\n",
        "  duration=[]\n",
        "  for i in range(len(time)):\n",
        "    duration.append(time[i]-time[i-1])\n",
        "  duration[0]=0.0\n",
        "  return duration\n",
        "\n",
        "def create_data_and_target(df):\n",
        "  benign= df.loc[df['Target'] == 0]\n",
        "  malicious= df.loc[df['Target'] == 1]  \n",
        "\n",
        "  benign_data, benign_target=create_target(benign)\n",
        "  malicious_data, malicious_target=create_target(malicious)\n",
        "\n",
        "  benign_data=categorical_to_numeric(benign)\n",
        "  malicious_data=categorical_to_numeric(malicious)\n",
        "  \n",
        "  return benign_data.to_numpy(), benign_target.to_numpy(), malicious_data.to_numpy(), malicious_target.to_numpy() \n",
        "  #return all lists as benign data/target and udp flood data/target\n",
        "  \n",
        "#used to create data values for data\n",
        "def create_target(data):\n",
        "  target=data['Target']\n",
        "  data=data.drop('Target', axis=1, inplace=True)\n",
        "  return data, target\n",
        "\n",
        "#convert non numeric values for use with SVC\n",
        "def categorical_to_numeric(df):\n",
        "  df['SourceIP'] = LabelEncoder().fit_transform(df.SourceIP.values)\n",
        "  df['DestinationIP'] = LabelEncoder().fit_transform(df.DestinationIP.values)\n",
        "  df['Protocol'] = LabelEncoder().fit_transform(df.Protocol.values)\n",
        "  return df"
      ],
      "execution_count": null,
      "outputs": []
    },
    {
      "cell_type": "code",
      "metadata": {
        "colab": {
          "base_uri": "https://localhost:8080/",
          "height": 347
        },
        "id": "xfbFxRUVRtMr",
        "outputId": "2d802684-637b-4495-89e7-a0f29f5e568a"
      },
      "source": [
        "wireshark_benign_1884.head(10)"
      ],
      "execution_count": null,
      "outputs": [
        {
          "output_type": "execute_result",
          "data": {
            "text/html": [
              "<div>\n",
              "<style scoped>\n",
              "    .dataframe tbody tr th:only-of-type {\n",
              "        vertical-align: middle;\n",
              "    }\n",
              "\n",
              "    .dataframe tbody tr th {\n",
              "        vertical-align: top;\n",
              "    }\n",
              "\n",
              "    .dataframe thead th {\n",
              "        text-align: right;\n",
              "    }\n",
              "</style>\n",
              "<table border=\"1\" class=\"dataframe\">\n",
              "  <thead>\n",
              "    <tr style=\"text-align: right;\">\n",
              "      <th></th>\n",
              "      <th>No.</th>\n",
              "      <th>Time</th>\n",
              "      <th>Source</th>\n",
              "      <th>Destination</th>\n",
              "      <th>Protocol</th>\n",
              "      <th>Length</th>\n",
              "      <th>Info</th>\n",
              "    </tr>\n",
              "  </thead>\n",
              "  <tbody>\n",
              "    <tr>\n",
              "      <th>0</th>\n",
              "      <td>1</td>\n",
              "      <td>0.000000</td>\n",
              "      <td>fe80::504e:9624:3ae7:90c3</td>\n",
              "      <td>ff02::2</td>\n",
              "      <td>ICMPv6</td>\n",
              "      <td>48</td>\n",
              "      <td>Router Solicitation</td>\n",
              "    </tr>\n",
              "    <tr>\n",
              "      <th>1</th>\n",
              "      <td>2</td>\n",
              "      <td>15.611043</td>\n",
              "      <td>fe80::504e:9624:3ae7:90c3</td>\n",
              "      <td>ff02::2</td>\n",
              "      <td>ICMPv6</td>\n",
              "      <td>48</td>\n",
              "      <td>Router Solicitation</td>\n",
              "    </tr>\n",
              "    <tr>\n",
              "      <th>2</th>\n",
              "      <td>3</td>\n",
              "      <td>18.363585</td>\n",
              "      <td>aaaa::c30c:0:0:2</td>\n",
              "      <td>aaaa::1</td>\n",
              "      <td>UDP</td>\n",
              "      <td>70</td>\n",
              "      <td>1884  &gt;  1884 Len=22</td>\n",
              "    </tr>\n",
              "    <tr>\n",
              "      <th>3</th>\n",
              "      <td>4</td>\n",
              "      <td>18.364787</td>\n",
              "      <td>aaaa::1</td>\n",
              "      <td>aaaa::c30c:0:0:2</td>\n",
              "      <td>UDP</td>\n",
              "      <td>51</td>\n",
              "      <td>1884  &gt;  1884 Len=3</td>\n",
              "    </tr>\n",
              "    <tr>\n",
              "      <th>4</th>\n",
              "      <td>5</td>\n",
              "      <td>18.412857</td>\n",
              "      <td>aaaa::c30c:0:0:2</td>\n",
              "      <td>aaaa::1</td>\n",
              "      <td>UDP</td>\n",
              "      <td>62</td>\n",
              "      <td>1884  &gt;  1884 Len=14</td>\n",
              "    </tr>\n",
              "    <tr>\n",
              "      <th>5</th>\n",
              "      <td>6</td>\n",
              "      <td>18.412940</td>\n",
              "      <td>aaaa::1</td>\n",
              "      <td>aaaa::c30c:0:0:2</td>\n",
              "      <td>UDP</td>\n",
              "      <td>55</td>\n",
              "      <td>1884  &gt;  1884 Len=7</td>\n",
              "    </tr>\n",
              "    <tr>\n",
              "      <th>6</th>\n",
              "      <td>7</td>\n",
              "      <td>18.459126</td>\n",
              "      <td>aaaa::c30c:0:0:2</td>\n",
              "      <td>aaaa::1</td>\n",
              "      <td>UDP</td>\n",
              "      <td>62</td>\n",
              "      <td>1884  &gt;  1884 Len=14</td>\n",
              "    </tr>\n",
              "    <tr>\n",
              "      <th>7</th>\n",
              "      <td>8</td>\n",
              "      <td>18.459217</td>\n",
              "      <td>aaaa::1</td>\n",
              "      <td>aaaa::c30c:0:0:2</td>\n",
              "      <td>UDP</td>\n",
              "      <td>55</td>\n",
              "      <td>1884  &gt;  1884 Len=7</td>\n",
              "    </tr>\n",
              "    <tr>\n",
              "      <th>8</th>\n",
              "      <td>9</td>\n",
              "      <td>18.462152</td>\n",
              "      <td>aaaa::c30c:0:0:4</td>\n",
              "      <td>aaaa::1</td>\n",
              "      <td>UDP</td>\n",
              "      <td>70</td>\n",
              "      <td>1884  &gt;  1884 Len=22</td>\n",
              "    </tr>\n",
              "    <tr>\n",
              "      <th>9</th>\n",
              "      <td>10</td>\n",
              "      <td>18.462232</td>\n",
              "      <td>aaaa::1</td>\n",
              "      <td>aaaa::c30c:0:0:4</td>\n",
              "      <td>UDP</td>\n",
              "      <td>51</td>\n",
              "      <td>1884  &gt;  1884 Len=3</td>\n",
              "    </tr>\n",
              "  </tbody>\n",
              "</table>\n",
              "</div>"
            ],
            "text/plain": [
              "   No.       Time  ... Length                  Info\n",
              "0    1   0.000000  ...     48   Router Solicitation\n",
              "1    2  15.611043  ...     48   Router Solicitation\n",
              "2    3  18.363585  ...     70  1884  >  1884 Len=22\n",
              "3    4  18.364787  ...     51   1884  >  1884 Len=3\n",
              "4    5  18.412857  ...     62  1884  >  1884 Len=14\n",
              "5    6  18.412940  ...     55   1884  >  1884 Len=7\n",
              "6    7  18.459126  ...     62  1884  >  1884 Len=14\n",
              "7    8  18.459217  ...     55   1884  >  1884 Len=7\n",
              "8    9  18.462152  ...     70  1884  >  1884 Len=22\n",
              "9   10  18.462232  ...     51   1884  >  1884 Len=3\n",
              "\n",
              "[10 rows x 7 columns]"
            ]
          },
          "metadata": {
            "tags": []
          },
          "execution_count": 7
        }
      ]
    },
    {
      "cell_type": "code",
      "metadata": {
        "colab": {
          "base_uri": "https://localhost:8080/",
          "height": 347
        },
        "id": "pKaax4e--igr",
        "outputId": "db934dbc-8e06-4ae8-dfaf-844057bc61ba"
      },
      "source": [
        "wireshark_udpflood_60001_bbbb.head(10)"
      ],
      "execution_count": null,
      "outputs": [
        {
          "output_type": "execute_result",
          "data": {
            "text/html": [
              "<div>\n",
              "<style scoped>\n",
              "    .dataframe tbody tr th:only-of-type {\n",
              "        vertical-align: middle;\n",
              "    }\n",
              "\n",
              "    .dataframe tbody tr th {\n",
              "        vertical-align: top;\n",
              "    }\n",
              "\n",
              "    .dataframe thead th {\n",
              "        text-align: right;\n",
              "    }\n",
              "</style>\n",
              "<table border=\"1\" class=\"dataframe\">\n",
              "  <thead>\n",
              "    <tr style=\"text-align: right;\">\n",
              "      <th></th>\n",
              "      <th>No.</th>\n",
              "      <th>Time</th>\n",
              "      <th>Source</th>\n",
              "      <th>Destination</th>\n",
              "      <th>Protocol</th>\n",
              "      <th>Length</th>\n",
              "      <th>Info</th>\n",
              "    </tr>\n",
              "  </thead>\n",
              "  <tbody>\n",
              "    <tr>\n",
              "      <th>0</th>\n",
              "      <td>1</td>\n",
              "      <td>0.000000</td>\n",
              "      <td>fe80::79fa:fdfd:46ef:d156</td>\n",
              "      <td>ff02::2</td>\n",
              "      <td>ICMPv6</td>\n",
              "      <td>48</td>\n",
              "      <td>Router Solicitation</td>\n",
              "    </tr>\n",
              "    <tr>\n",
              "      <th>1</th>\n",
              "      <td>2</td>\n",
              "      <td>16.127682</td>\n",
              "      <td>fe80::79fa:fdfd:46ef:d156</td>\n",
              "      <td>ff02::2</td>\n",
              "      <td>ICMPv6</td>\n",
              "      <td>48</td>\n",
              "      <td>Router Solicitation</td>\n",
              "    </tr>\n",
              "    <tr>\n",
              "      <th>2</th>\n",
              "      <td>3</td>\n",
              "      <td>44.060629</td>\n",
              "      <td>bbbb::1</td>\n",
              "      <td>bbbb::c30c:0:0:1</td>\n",
              "      <td>UDP</td>\n",
              "      <td>1072</td>\n",
              "      <td>56734  &gt;  60001 Len=1024</td>\n",
              "    </tr>\n",
              "    <tr>\n",
              "      <th>3</th>\n",
              "      <td>4</td>\n",
              "      <td>44.060735</td>\n",
              "      <td>bbbb::1</td>\n",
              "      <td>bbbb::c30c:0:0:1</td>\n",
              "      <td>UDP</td>\n",
              "      <td>1072</td>\n",
              "      <td>38472  &gt;  60001 Len=1024</td>\n",
              "    </tr>\n",
              "    <tr>\n",
              "      <th>4</th>\n",
              "      <td>5</td>\n",
              "      <td>44.060790</td>\n",
              "      <td>bbbb::1</td>\n",
              "      <td>bbbb::c30c:0:0:1</td>\n",
              "      <td>UDP</td>\n",
              "      <td>1072</td>\n",
              "      <td>50641  &gt;  60001 Len=1024</td>\n",
              "    </tr>\n",
              "    <tr>\n",
              "      <th>5</th>\n",
              "      <td>6</td>\n",
              "      <td>44.060873</td>\n",
              "      <td>bbbb::1</td>\n",
              "      <td>bbbb::c30c:0:0:1</td>\n",
              "      <td>UDP</td>\n",
              "      <td>1072</td>\n",
              "      <td>34065  &gt;  60001 Len=1024</td>\n",
              "    </tr>\n",
              "    <tr>\n",
              "      <th>6</th>\n",
              "      <td>7</td>\n",
              "      <td>44.060927</td>\n",
              "      <td>bbbb::1</td>\n",
              "      <td>bbbb::c30c:0:0:1</td>\n",
              "      <td>UDP</td>\n",
              "      <td>1072</td>\n",
              "      <td>34657  &gt;  60001 Len=1024</td>\n",
              "    </tr>\n",
              "    <tr>\n",
              "      <th>7</th>\n",
              "      <td>8</td>\n",
              "      <td>44.060976</td>\n",
              "      <td>bbbb::1</td>\n",
              "      <td>bbbb::c30c:0:0:1</td>\n",
              "      <td>UDP</td>\n",
              "      <td>1072</td>\n",
              "      <td>41508  &gt;  60001 Len=1024</td>\n",
              "    </tr>\n",
              "    <tr>\n",
              "      <th>8</th>\n",
              "      <td>9</td>\n",
              "      <td>44.061023</td>\n",
              "      <td>bbbb::1</td>\n",
              "      <td>bbbb::c30c:0:0:1</td>\n",
              "      <td>UDP</td>\n",
              "      <td>1072</td>\n",
              "      <td>33359  &gt;  60001 Len=1024</td>\n",
              "    </tr>\n",
              "    <tr>\n",
              "      <th>9</th>\n",
              "      <td>10</td>\n",
              "      <td>44.061069</td>\n",
              "      <td>bbbb::1</td>\n",
              "      <td>bbbb::c30c:0:0:1</td>\n",
              "      <td>UDP</td>\n",
              "      <td>1072</td>\n",
              "      <td>40293  &gt;  60001 Len=1024</td>\n",
              "    </tr>\n",
              "  </tbody>\n",
              "</table>\n",
              "</div>"
            ],
            "text/plain": [
              "   No.       Time  ... Length                      Info\n",
              "0    1   0.000000  ...     48       Router Solicitation\n",
              "1    2  16.127682  ...     48       Router Solicitation\n",
              "2    3  44.060629  ...   1072  56734  >  60001 Len=1024\n",
              "3    4  44.060735  ...   1072  38472  >  60001 Len=1024\n",
              "4    5  44.060790  ...   1072  50641  >  60001 Len=1024\n",
              "5    6  44.060873  ...   1072  34065  >  60001 Len=1024\n",
              "6    7  44.060927  ...   1072  34657  >  60001 Len=1024\n",
              "7    8  44.060976  ...   1072  41508  >  60001 Len=1024\n",
              "8    9  44.061023  ...   1072  33359  >  60001 Len=1024\n",
              "9   10  44.061069  ...   1072  40293  >  60001 Len=1024\n",
              "\n",
              "[10 rows x 7 columns]"
            ]
          },
          "metadata": {
            "tags": []
          },
          "execution_count": 8
        }
      ]
    },
    {
      "cell_type": "code",
      "metadata": {
        "id": "r4bW_0Um09P8"
      },
      "source": [
        "#clean data\n",
        "#benign\n",
        "clean_benign_1884=clean(wireshark_benign_1884, 0)\n",
        "clean_benign_1884_2=clean(wireshark_benign_1884_2, 0)\n",
        "clean_benign_9022=clean(wireshark_benign_9022, 0)\n",
        "clean_benign_9022_bbbb=clean(wireshark_benign_9022_bbbb, 0)\n",
        "\n",
        "#DoS\n",
        "clean_udpflood_10231=clean(wireshark_udpflood_10231, 1)\n",
        "clean_udpflood_60001_bbbb=clean(wireshark_udpflood_60001_bbbb, 1)"
      ],
      "execution_count": null,
      "outputs": []
    },
    {
      "cell_type": "code",
      "metadata": {
        "colab": {
          "base_uri": "https://localhost:8080/"
        },
        "id": "Nr-DBcIN-yXG",
        "outputId": "68e2c9e2-0b20-4275-f6b9-72a75719519f"
      },
      "source": [
        "clean_benign_9022_bbbb.DestinationIP.unique()"
      ],
      "execution_count": null,
      "outputs": [
        {
          "output_type": "execute_result",
          "data": {
            "text/plain": [
              "array(['bbbb::1', 'bbbb::c30c:0:0:2', 'bbbb::c30c:0:0:4',\n",
              "       'bbbb::c30c:0:0:3'], dtype=object)"
            ]
          },
          "metadata": {
            "tags": []
          },
          "execution_count": 10
        }
      ]
    },
    {
      "cell_type": "code",
      "metadata": {
        "id": "0EEQ5zQ_b64o",
        "colab": {
          "base_uri": "https://localhost:8080/"
        },
        "outputId": "1f8c8595-becc-4d22-a101-75c84336bf90"
      },
      "source": [
        "clean_udpflood_10231.DestinationIP.unique()"
      ],
      "execution_count": null,
      "outputs": [
        {
          "output_type": "execute_result",
          "data": {
            "text/plain": [
              "array(['aaaa::c30c:0:0:1'], dtype=object)"
            ]
          },
          "metadata": {
            "tags": []
          },
          "execution_count": 11
        }
      ]
    },
    {
      "cell_type": "code",
      "metadata": {
        "id": "sNmWAbOB_YyF",
        "colab": {
          "base_uri": "https://localhost:8080/",
          "height": 197
        },
        "outputId": "ffee83ce-f9f9-4563-9126-d6791cd0317e"
      },
      "source": [
        "clean_udpflood_10231.head()"
      ],
      "execution_count": null,
      "outputs": [
        {
          "output_type": "execute_result",
          "data": {
            "text/html": [
              "<div>\n",
              "<style scoped>\n",
              "    .dataframe tbody tr th:only-of-type {\n",
              "        vertical-align: middle;\n",
              "    }\n",
              "\n",
              "    .dataframe tbody tr th {\n",
              "        vertical-align: top;\n",
              "    }\n",
              "\n",
              "    .dataframe thead th {\n",
              "        text-align: right;\n",
              "    }\n",
              "</style>\n",
              "<table border=\"1\" class=\"dataframe\">\n",
              "  <thead>\n",
              "    <tr style=\"text-align: right;\">\n",
              "      <th></th>\n",
              "      <th>Duration</th>\n",
              "      <th>SourceIP</th>\n",
              "      <th>DestinationIP</th>\n",
              "      <th>Protocol</th>\n",
              "      <th>Length</th>\n",
              "      <th>Target</th>\n",
              "      <th>SourcePort</th>\n",
              "      <th>DestinationPort</th>\n",
              "      <th>InfoLength</th>\n",
              "    </tr>\n",
              "  </thead>\n",
              "  <tbody>\n",
              "    <tr>\n",
              "      <th>1</th>\n",
              "      <td>0.000000</td>\n",
              "      <td>aaaa::1</td>\n",
              "      <td>aaaa::c30c:0:0:1</td>\n",
              "      <td>UDP</td>\n",
              "      <td>1072</td>\n",
              "      <td>1</td>\n",
              "      <td>60115</td>\n",
              "      <td>10231</td>\n",
              "      <td>1024</td>\n",
              "    </tr>\n",
              "    <tr>\n",
              "      <th>2</th>\n",
              "      <td>0.000106</td>\n",
              "      <td>aaaa::1</td>\n",
              "      <td>aaaa::c30c:0:0:1</td>\n",
              "      <td>UDP</td>\n",
              "      <td>1072</td>\n",
              "      <td>1</td>\n",
              "      <td>37768</td>\n",
              "      <td>10231</td>\n",
              "      <td>1024</td>\n",
              "    </tr>\n",
              "    <tr>\n",
              "      <th>3</th>\n",
              "      <td>0.000055</td>\n",
              "      <td>aaaa::1</td>\n",
              "      <td>aaaa::c30c:0:0:1</td>\n",
              "      <td>UDP</td>\n",
              "      <td>1072</td>\n",
              "      <td>1</td>\n",
              "      <td>49521</td>\n",
              "      <td>10231</td>\n",
              "      <td>1024</td>\n",
              "    </tr>\n",
              "    <tr>\n",
              "      <th>4</th>\n",
              "      <td>0.000047</td>\n",
              "      <td>aaaa::1</td>\n",
              "      <td>aaaa::c30c:0:0:1</td>\n",
              "      <td>UDP</td>\n",
              "      <td>1072</td>\n",
              "      <td>1</td>\n",
              "      <td>57083</td>\n",
              "      <td>10231</td>\n",
              "      <td>1024</td>\n",
              "    </tr>\n",
              "    <tr>\n",
              "      <th>5</th>\n",
              "      <td>0.000046</td>\n",
              "      <td>aaaa::1</td>\n",
              "      <td>aaaa::c30c:0:0:1</td>\n",
              "      <td>UDP</td>\n",
              "      <td>1072</td>\n",
              "      <td>1</td>\n",
              "      <td>37949</td>\n",
              "      <td>10231</td>\n",
              "      <td>1024</td>\n",
              "    </tr>\n",
              "  </tbody>\n",
              "</table>\n",
              "</div>"
            ],
            "text/plain": [
              "   Duration SourceIP     DestinationIP  ... SourcePort  DestinationPort  InfoLength\n",
              "1  0.000000  aaaa::1  aaaa::c30c:0:0:1  ...      60115            10231        1024\n",
              "2  0.000106  aaaa::1  aaaa::c30c:0:0:1  ...      37768            10231        1024\n",
              "3  0.000055  aaaa::1  aaaa::c30c:0:0:1  ...      49521            10231        1024\n",
              "4  0.000047  aaaa::1  aaaa::c30c:0:0:1  ...      57083            10231        1024\n",
              "5  0.000046  aaaa::1  aaaa::c30c:0:0:1  ...      37949            10231        1024\n",
              "\n",
              "[5 rows x 9 columns]"
            ]
          },
          "metadata": {
            "tags": []
          },
          "execution_count": 12
        }
      ]
    },
    {
      "cell_type": "code",
      "metadata": {
        "id": "sow4O_xG1FNW",
        "colab": {
          "base_uri": "https://localhost:8080/",
          "height": 347
        },
        "outputId": "1f5d61dd-ba9a-479b-b008-89f0b3c238bd"
      },
      "source": [
        "clean_udpflood_10231[['SourceIP', 'DestinationIP', 'SourcePort', 'DestinationPort']].head(10)"
      ],
      "execution_count": null,
      "outputs": [
        {
          "output_type": "execute_result",
          "data": {
            "text/html": [
              "<div>\n",
              "<style scoped>\n",
              "    .dataframe tbody tr th:only-of-type {\n",
              "        vertical-align: middle;\n",
              "    }\n",
              "\n",
              "    .dataframe tbody tr th {\n",
              "        vertical-align: top;\n",
              "    }\n",
              "\n",
              "    .dataframe thead th {\n",
              "        text-align: right;\n",
              "    }\n",
              "</style>\n",
              "<table border=\"1\" class=\"dataframe\">\n",
              "  <thead>\n",
              "    <tr style=\"text-align: right;\">\n",
              "      <th></th>\n",
              "      <th>SourceIP</th>\n",
              "      <th>DestinationIP</th>\n",
              "      <th>SourcePort</th>\n",
              "      <th>DestinationPort</th>\n",
              "    </tr>\n",
              "  </thead>\n",
              "  <tbody>\n",
              "    <tr>\n",
              "      <th>1</th>\n",
              "      <td>aaaa::1</td>\n",
              "      <td>aaaa::c30c:0:0:1</td>\n",
              "      <td>60115</td>\n",
              "      <td>10231</td>\n",
              "    </tr>\n",
              "    <tr>\n",
              "      <th>2</th>\n",
              "      <td>aaaa::1</td>\n",
              "      <td>aaaa::c30c:0:0:1</td>\n",
              "      <td>37768</td>\n",
              "      <td>10231</td>\n",
              "    </tr>\n",
              "    <tr>\n",
              "      <th>3</th>\n",
              "      <td>aaaa::1</td>\n",
              "      <td>aaaa::c30c:0:0:1</td>\n",
              "      <td>49521</td>\n",
              "      <td>10231</td>\n",
              "    </tr>\n",
              "    <tr>\n",
              "      <th>4</th>\n",
              "      <td>aaaa::1</td>\n",
              "      <td>aaaa::c30c:0:0:1</td>\n",
              "      <td>57083</td>\n",
              "      <td>10231</td>\n",
              "    </tr>\n",
              "    <tr>\n",
              "      <th>5</th>\n",
              "      <td>aaaa::1</td>\n",
              "      <td>aaaa::c30c:0:0:1</td>\n",
              "      <td>37949</td>\n",
              "      <td>10231</td>\n",
              "    </tr>\n",
              "    <tr>\n",
              "      <th>6</th>\n",
              "      <td>aaaa::1</td>\n",
              "      <td>aaaa::c30c:0:0:1</td>\n",
              "      <td>50697</td>\n",
              "      <td>10231</td>\n",
              "    </tr>\n",
              "    <tr>\n",
              "      <th>7</th>\n",
              "      <td>aaaa::1</td>\n",
              "      <td>aaaa::c30c:0:0:1</td>\n",
              "      <td>42588</td>\n",
              "      <td>10231</td>\n",
              "    </tr>\n",
              "    <tr>\n",
              "      <th>8</th>\n",
              "      <td>aaaa::1</td>\n",
              "      <td>aaaa::c30c:0:0:1</td>\n",
              "      <td>40139</td>\n",
              "      <td>10231</td>\n",
              "    </tr>\n",
              "    <tr>\n",
              "      <th>9</th>\n",
              "      <td>aaaa::1</td>\n",
              "      <td>aaaa::c30c:0:0:1</td>\n",
              "      <td>36741</td>\n",
              "      <td>10231</td>\n",
              "    </tr>\n",
              "    <tr>\n",
              "      <th>10</th>\n",
              "      <td>aaaa::1</td>\n",
              "      <td>aaaa::c30c:0:0:1</td>\n",
              "      <td>37913</td>\n",
              "      <td>10231</td>\n",
              "    </tr>\n",
              "  </tbody>\n",
              "</table>\n",
              "</div>"
            ],
            "text/plain": [
              "   SourceIP     DestinationIP SourcePort DestinationPort\n",
              "1   aaaa::1  aaaa::c30c:0:0:1      60115           10231\n",
              "2   aaaa::1  aaaa::c30c:0:0:1      37768           10231\n",
              "3   aaaa::1  aaaa::c30c:0:0:1      49521           10231\n",
              "4   aaaa::1  aaaa::c30c:0:0:1      57083           10231\n",
              "5   aaaa::1  aaaa::c30c:0:0:1      37949           10231\n",
              "6   aaaa::1  aaaa::c30c:0:0:1      50697           10231\n",
              "7   aaaa::1  aaaa::c30c:0:0:1      42588           10231\n",
              "8   aaaa::1  aaaa::c30c:0:0:1      40139           10231\n",
              "9   aaaa::1  aaaa::c30c:0:0:1      36741           10231\n",
              "10  aaaa::1  aaaa::c30c:0:0:1      37913           10231"
            ]
          },
          "metadata": {
            "tags": []
          },
          "execution_count": 13
        }
      ]
    },
    {
      "cell_type": "code",
      "metadata": {
        "id": "ePidu0mu2qiO",
        "colab": {
          "base_uri": "https://localhost:8080/",
          "height": 197
        },
        "outputId": "030f51cc-4fe9-415c-d030-075d4f19c9a5"
      },
      "source": [
        "clean_udpflood_10231.head()"
      ],
      "execution_count": null,
      "outputs": [
        {
          "output_type": "execute_result",
          "data": {
            "text/html": [
              "<div>\n",
              "<style scoped>\n",
              "    .dataframe tbody tr th:only-of-type {\n",
              "        vertical-align: middle;\n",
              "    }\n",
              "\n",
              "    .dataframe tbody tr th {\n",
              "        vertical-align: top;\n",
              "    }\n",
              "\n",
              "    .dataframe thead th {\n",
              "        text-align: right;\n",
              "    }\n",
              "</style>\n",
              "<table border=\"1\" class=\"dataframe\">\n",
              "  <thead>\n",
              "    <tr style=\"text-align: right;\">\n",
              "      <th></th>\n",
              "      <th>Duration</th>\n",
              "      <th>SourceIP</th>\n",
              "      <th>DestinationIP</th>\n",
              "      <th>Protocol</th>\n",
              "      <th>Length</th>\n",
              "      <th>Target</th>\n",
              "      <th>SourcePort</th>\n",
              "      <th>DestinationPort</th>\n",
              "      <th>InfoLength</th>\n",
              "    </tr>\n",
              "  </thead>\n",
              "  <tbody>\n",
              "    <tr>\n",
              "      <th>1</th>\n",
              "      <td>0.000000</td>\n",
              "      <td>aaaa::1</td>\n",
              "      <td>aaaa::c30c:0:0:1</td>\n",
              "      <td>UDP</td>\n",
              "      <td>1072</td>\n",
              "      <td>1</td>\n",
              "      <td>60115</td>\n",
              "      <td>10231</td>\n",
              "      <td>1024</td>\n",
              "    </tr>\n",
              "    <tr>\n",
              "      <th>2</th>\n",
              "      <td>0.000106</td>\n",
              "      <td>aaaa::1</td>\n",
              "      <td>aaaa::c30c:0:0:1</td>\n",
              "      <td>UDP</td>\n",
              "      <td>1072</td>\n",
              "      <td>1</td>\n",
              "      <td>37768</td>\n",
              "      <td>10231</td>\n",
              "      <td>1024</td>\n",
              "    </tr>\n",
              "    <tr>\n",
              "      <th>3</th>\n",
              "      <td>0.000055</td>\n",
              "      <td>aaaa::1</td>\n",
              "      <td>aaaa::c30c:0:0:1</td>\n",
              "      <td>UDP</td>\n",
              "      <td>1072</td>\n",
              "      <td>1</td>\n",
              "      <td>49521</td>\n",
              "      <td>10231</td>\n",
              "      <td>1024</td>\n",
              "    </tr>\n",
              "    <tr>\n",
              "      <th>4</th>\n",
              "      <td>0.000047</td>\n",
              "      <td>aaaa::1</td>\n",
              "      <td>aaaa::c30c:0:0:1</td>\n",
              "      <td>UDP</td>\n",
              "      <td>1072</td>\n",
              "      <td>1</td>\n",
              "      <td>57083</td>\n",
              "      <td>10231</td>\n",
              "      <td>1024</td>\n",
              "    </tr>\n",
              "    <tr>\n",
              "      <th>5</th>\n",
              "      <td>0.000046</td>\n",
              "      <td>aaaa::1</td>\n",
              "      <td>aaaa::c30c:0:0:1</td>\n",
              "      <td>UDP</td>\n",
              "      <td>1072</td>\n",
              "      <td>1</td>\n",
              "      <td>37949</td>\n",
              "      <td>10231</td>\n",
              "      <td>1024</td>\n",
              "    </tr>\n",
              "  </tbody>\n",
              "</table>\n",
              "</div>"
            ],
            "text/plain": [
              "   Duration SourceIP     DestinationIP  ... SourcePort  DestinationPort  InfoLength\n",
              "1  0.000000  aaaa::1  aaaa::c30c:0:0:1  ...      60115            10231        1024\n",
              "2  0.000106  aaaa::1  aaaa::c30c:0:0:1  ...      37768            10231        1024\n",
              "3  0.000055  aaaa::1  aaaa::c30c:0:0:1  ...      49521            10231        1024\n",
              "4  0.000047  aaaa::1  aaaa::c30c:0:0:1  ...      57083            10231        1024\n",
              "5  0.000046  aaaa::1  aaaa::c30c:0:0:1  ...      37949            10231        1024\n",
              "\n",
              "[5 rows x 9 columns]"
            ]
          },
          "metadata": {
            "tags": []
          },
          "execution_count": 14
        }
      ]
    },
    {
      "cell_type": "code",
      "metadata": {
        "colab": {
          "base_uri": "https://localhost:8080/",
          "height": 312
        },
        "id": "xtrM8KERu-3a",
        "outputId": "6148e513-8e17-4975-90ea-20566023a8f0"
      },
      "source": [
        "clean_b=clean(wireshark_benign_1884, 0)\n",
        "\n",
        "clean_m=clean(wireshark_udpflood_10231, 1)\n",
        "\n",
        "df=clean_b[['Length', 'InfoLength', 'Target']].append(clean_m[['Length', 'InfoLength', 'Target']])\n",
        "df.loc[(df.Target == 0),'Target']='Benign'\n",
        "df.loc[(df.Target == 1),'Target']='Malicious'\n",
        "df['InfoLength']=df['InfoLength'].astype(str).astype(int)\n",
        "\n",
        "to_plot=df.groupby('Target').mean()\n",
        "to_plot.plot(kind='bar', title='Average Size of Packets Sent by Class', ylabel='Bytes', rot=0)"
      ],
      "execution_count": null,
      "outputs": [
        {
          "output_type": "execute_result",
          "data": {
            "text/plain": [
              "<matplotlib.axes._subplots.AxesSubplot at 0x7f89c0f39250>"
            ]
          },
          "metadata": {
            "tags": []
          },
          "execution_count": 86
        },
        {
          "output_type": "display_data",
          "data": {
            "image/png": "[encoded data removed]",
            "text/plain": [
              "<Figure size 432x288 with 1 Axes>"
            ]
          },
          "metadata": {
            "tags": [],
            "needs_background": "light"
          }
        }
      ]
    },
    {
      "cell_type": "code",
      "metadata": {
        "id": "BIIcqW00zMfS",
        "colab": {
          "base_uri": "https://localhost:8080/"
        },
        "outputId": "9dd8589a-b3b0-424c-aaa2-6ae53c33b8fe"
      },
      "source": [
        "clean_benign_1884.DestinationIP.values"
      ],
      "execution_count": null,
      "outputs": [
        {
          "output_type": "execute_result",
          "data": {
            "text/plain": [
              "array(['aaaa::1', 'aaaa::c30c:0:0:2', 'aaaa::1', ..., 'aaaa::1',\n",
              "       'aaaa::1', 'aaaa::1'], dtype=object)"
            ]
          },
          "metadata": {
            "tags": []
          },
          "execution_count": 15
        }
      ]
    },
    {
      "cell_type": "code",
      "metadata": {
        "id": "wf2Pzo-vzJ4Z",
        "colab": {
          "base_uri": "https://localhost:8080/"
        },
        "outputId": "b4bbd9ba-7cfe-444c-c16f-1a48b411b2ff"
      },
      "source": [
        "clean_benign_1884.SourceIP.values"
      ],
      "execution_count": null,
      "outputs": [
        {
          "output_type": "execute_result",
          "data": {
            "text/plain": [
              "array(['aaaa::c30c:0:0:2', 'aaaa::1', 'aaaa::c30c:0:0:2', ...,\n",
              "       'aaaa::c30c:0:0:3', 'aaaa::c30c:0:0:2', 'aaaa::c30c:0:0:4'],\n",
              "      dtype=object)"
            ]
          },
          "metadata": {
            "tags": []
          },
          "execution_count": 16
        }
      ]
    },
    {
      "cell_type": "code",
      "metadata": {
        "id": "4Ex_UhBcEYvC",
        "colab": {
          "base_uri": "https://localhost:8080/"
        },
        "outputId": "8d3da86b-357a-4f60-d12a-d511b7597fe3"
      },
      "source": [
        "clean_benign_1884.dtypes"
      ],
      "execution_count": null,
      "outputs": [
        {
          "output_type": "execute_result",
          "data": {
            "text/plain": [
              "Duration           float64\n",
              "SourceIP            object\n",
              "DestinationIP       object\n",
              "Protocol            object\n",
              "Length               int64\n",
              "Target               int64\n",
              "SourcePort          object\n",
              "DestinationPort     object\n",
              "InfoLength          object\n",
              "dtype: object"
            ]
          },
          "metadata": {
            "tags": []
          },
          "execution_count": 17
        }
      ]
    },
    {
      "cell_type": "code",
      "metadata": {
        "id": "ot5MmSL1EkEM",
        "colab": {
          "base_uri": "https://localhost:8080/"
        },
        "outputId": "afd73837-a46b-4883-dd05-3439df39002f"
      },
      "source": [
        "type(clean_benign_1884['Length'])"
      ],
      "execution_count": null,
      "outputs": [
        {
          "output_type": "execute_result",
          "data": {
            "text/plain": [
              "pandas.core.series.Series"
            ]
          },
          "metadata": {
            "tags": []
          },
          "execution_count": 18
        }
      ]
    },
    {
      "cell_type": "code",
      "metadata": {
        "id": "CzCFLTXP-CZQ",
        "colab": {
          "base_uri": "https://localhost:8080/",
          "height": 197
        },
        "outputId": "acba203f-a051-411e-cd1c-cdf7fbb78fd1"
      },
      "source": [
        "clean_benign_1884.head()"
      ],
      "execution_count": null,
      "outputs": [
        {
          "output_type": "execute_result",
          "data": {
            "text/html": [
              "<div>\n",
              "<style scoped>\n",
              "    .dataframe tbody tr th:only-of-type {\n",
              "        vertical-align: middle;\n",
              "    }\n",
              "\n",
              "    .dataframe tbody tr th {\n",
              "        vertical-align: top;\n",
              "    }\n",
              "\n",
              "    .dataframe thead th {\n",
              "        text-align: right;\n",
              "    }\n",
              "</style>\n",
              "<table border=\"1\" class=\"dataframe\">\n",
              "  <thead>\n",
              "    <tr style=\"text-align: right;\">\n",
              "      <th></th>\n",
              "      <th>Duration</th>\n",
              "      <th>SourceIP</th>\n",
              "      <th>DestinationIP</th>\n",
              "      <th>Protocol</th>\n",
              "      <th>Length</th>\n",
              "      <th>Target</th>\n",
              "      <th>SourcePort</th>\n",
              "      <th>DestinationPort</th>\n",
              "      <th>InfoLength</th>\n",
              "    </tr>\n",
              "  </thead>\n",
              "  <tbody>\n",
              "    <tr>\n",
              "      <th>2</th>\n",
              "      <td>0.000000</td>\n",
              "      <td>aaaa::c30c:0:0:2</td>\n",
              "      <td>aaaa::1</td>\n",
              "      <td>UDP</td>\n",
              "      <td>70</td>\n",
              "      <td>0</td>\n",
              "      <td>1884</td>\n",
              "      <td>1884</td>\n",
              "      <td>22</td>\n",
              "    </tr>\n",
              "    <tr>\n",
              "      <th>3</th>\n",
              "      <td>0.001202</td>\n",
              "      <td>aaaa::1</td>\n",
              "      <td>aaaa::c30c:0:0:2</td>\n",
              "      <td>UDP</td>\n",
              "      <td>51</td>\n",
              "      <td>0</td>\n",
              "      <td>1884</td>\n",
              "      <td>1884</td>\n",
              "      <td>3</td>\n",
              "    </tr>\n",
              "    <tr>\n",
              "      <th>4</th>\n",
              "      <td>0.048071</td>\n",
              "      <td>aaaa::c30c:0:0:2</td>\n",
              "      <td>aaaa::1</td>\n",
              "      <td>UDP</td>\n",
              "      <td>62</td>\n",
              "      <td>0</td>\n",
              "      <td>1884</td>\n",
              "      <td>1884</td>\n",
              "      <td>14</td>\n",
              "    </tr>\n",
              "    <tr>\n",
              "      <th>5</th>\n",
              "      <td>0.000083</td>\n",
              "      <td>aaaa::1</td>\n",
              "      <td>aaaa::c30c:0:0:2</td>\n",
              "      <td>UDP</td>\n",
              "      <td>55</td>\n",
              "      <td>0</td>\n",
              "      <td>1884</td>\n",
              "      <td>1884</td>\n",
              "      <td>7</td>\n",
              "    </tr>\n",
              "    <tr>\n",
              "      <th>6</th>\n",
              "      <td>0.046185</td>\n",
              "      <td>aaaa::c30c:0:0:2</td>\n",
              "      <td>aaaa::1</td>\n",
              "      <td>UDP</td>\n",
              "      <td>62</td>\n",
              "      <td>0</td>\n",
              "      <td>1884</td>\n",
              "      <td>1884</td>\n",
              "      <td>14</td>\n",
              "    </tr>\n",
              "  </tbody>\n",
              "</table>\n",
              "</div>"
            ],
            "text/plain": [
              "   Duration          SourceIP  ... DestinationPort InfoLength\n",
              "2  0.000000  aaaa::c30c:0:0:2  ...            1884         22\n",
              "3  0.001202           aaaa::1  ...            1884          3\n",
              "4  0.048071  aaaa::c30c:0:0:2  ...            1884         14\n",
              "5  0.000083           aaaa::1  ...            1884          7\n",
              "6  0.046185  aaaa::c30c:0:0:2  ...            1884         14\n",
              "\n",
              "[5 rows x 9 columns]"
            ]
          },
          "metadata": {
            "tags": []
          },
          "execution_count": 19
        }
      ]
    },
    {
      "cell_type": "code",
      "metadata": {
        "id": "r_AZcDBcKUQs",
        "colab": {
          "base_uri": "https://localhost:8080/",
          "height": 197
        },
        "outputId": "a86f2821-c93c-42ee-df71-bf5f4ca5fdae"
      },
      "source": [
        "clean_benign_1884.head()"
      ],
      "execution_count": null,
      "outputs": [
        {
          "output_type": "execute_result",
          "data": {
            "text/html": [
              "<div>\n",
              "<style scoped>\n",
              "    .dataframe tbody tr th:only-of-type {\n",
              "        vertical-align: middle;\n",
              "    }\n",
              "\n",
              "    .dataframe tbody tr th {\n",
              "        vertical-align: top;\n",
              "    }\n",
              "\n",
              "    .dataframe thead th {\n",
              "        text-align: right;\n",
              "    }\n",
              "</style>\n",
              "<table border=\"1\" class=\"dataframe\">\n",
              "  <thead>\n",
              "    <tr style=\"text-align: right;\">\n",
              "      <th></th>\n",
              "      <th>Duration</th>\n",
              "      <th>SourceIP</th>\n",
              "      <th>DestinationIP</th>\n",
              "      <th>Protocol</th>\n",
              "      <th>Length</th>\n",
              "      <th>Target</th>\n",
              "      <th>SourcePort</th>\n",
              "      <th>DestinationPort</th>\n",
              "      <th>InfoLength</th>\n",
              "    </tr>\n",
              "  </thead>\n",
              "  <tbody>\n",
              "    <tr>\n",
              "      <th>2</th>\n",
              "      <td>0.000000</td>\n",
              "      <td>aaaa::c30c:0:0:2</td>\n",
              "      <td>aaaa::1</td>\n",
              "      <td>UDP</td>\n",
              "      <td>70</td>\n",
              "      <td>0</td>\n",
              "      <td>1884</td>\n",
              "      <td>1884</td>\n",
              "      <td>22</td>\n",
              "    </tr>\n",
              "    <tr>\n",
              "      <th>3</th>\n",
              "      <td>0.001202</td>\n",
              "      <td>aaaa::1</td>\n",
              "      <td>aaaa::c30c:0:0:2</td>\n",
              "      <td>UDP</td>\n",
              "      <td>51</td>\n",
              "      <td>0</td>\n",
              "      <td>1884</td>\n",
              "      <td>1884</td>\n",
              "      <td>3</td>\n",
              "    </tr>\n",
              "    <tr>\n",
              "      <th>4</th>\n",
              "      <td>0.048071</td>\n",
              "      <td>aaaa::c30c:0:0:2</td>\n",
              "      <td>aaaa::1</td>\n",
              "      <td>UDP</td>\n",
              "      <td>62</td>\n",
              "      <td>0</td>\n",
              "      <td>1884</td>\n",
              "      <td>1884</td>\n",
              "      <td>14</td>\n",
              "    </tr>\n",
              "    <tr>\n",
              "      <th>5</th>\n",
              "      <td>0.000083</td>\n",
              "      <td>aaaa::1</td>\n",
              "      <td>aaaa::c30c:0:0:2</td>\n",
              "      <td>UDP</td>\n",
              "      <td>55</td>\n",
              "      <td>0</td>\n",
              "      <td>1884</td>\n",
              "      <td>1884</td>\n",
              "      <td>7</td>\n",
              "    </tr>\n",
              "    <tr>\n",
              "      <th>6</th>\n",
              "      <td>0.046185</td>\n",
              "      <td>aaaa::c30c:0:0:2</td>\n",
              "      <td>aaaa::1</td>\n",
              "      <td>UDP</td>\n",
              "      <td>62</td>\n",
              "      <td>0</td>\n",
              "      <td>1884</td>\n",
              "      <td>1884</td>\n",
              "      <td>14</td>\n",
              "    </tr>\n",
              "  </tbody>\n",
              "</table>\n",
              "</div>"
            ],
            "text/plain": [
              "   Duration          SourceIP  ... DestinationPort InfoLength\n",
              "2  0.000000  aaaa::c30c:0:0:2  ...            1884         22\n",
              "3  0.001202           aaaa::1  ...            1884          3\n",
              "4  0.048071  aaaa::c30c:0:0:2  ...            1884         14\n",
              "5  0.000083           aaaa::1  ...            1884          7\n",
              "6  0.046185  aaaa::c30c:0:0:2  ...            1884         14\n",
              "\n",
              "[5 rows x 9 columns]"
            ]
          },
          "metadata": {
            "tags": []
          },
          "execution_count": 20
        }
      ]
    },
    {
      "cell_type": "code",
      "metadata": {
        "id": "XtCiOPFVuQva"
      },
      "source": [
        "dataset_as_dataframe=pd.concat([clean_benign_1884, clean_benign_1884_2, clean_benign_9022, clean_benign_9022_bbbb, clean_udpflood_10231.sample(frac=.25), clean_udpflood_60001_bbbb.sample(frac=.25)])"
      ],
      "execution_count": null,
      "outputs": []
    },
    {
      "cell_type": "code",
      "metadata": {
        "colab": {
          "base_uri": "https://localhost:8080/"
        },
        "id": "yAvhYKcauOkT",
        "outputId": "a332b529-257a-4351-8d73-a9190e0ea32d"
      },
      "source": [
        "dataset_as_dataframe.shape"
      ],
      "execution_count": null,
      "outputs": [
        {
          "output_type": "execute_result",
          "data": {
            "text/plain": [
              "(262737, 9)"
            ]
          },
          "metadata": {
            "tags": []
          },
          "execution_count": 22
        }
      ]
    },
    {
      "cell_type": "markdown",
      "metadata": {
        "id": "BoRJqxUoSJ6D"
      },
      "source": [
        "#Preprocessing\n"
      ]
    },
    {
      "cell_type": "code",
      "metadata": {
        "id": "oopmMuficP5g"
      },
      "source": [
        "#imports \n",
        "from sklearn.utils import shuffle\n",
        "from sklearn.model_selection import train_test_split"
      ],
      "execution_count": null,
      "outputs": []
    },
    {
      "cell_type": "code",
      "metadata": {
        "colab": {
          "base_uri": "https://localhost:8080/",
          "height": 406
        },
        "id": "ta1zf2n1CWKQ",
        "outputId": "7c26761f-8a73-4d7a-821d-c4d915279e95"
      },
      "source": [
        "clean_benign_1884.loc[clean_benign_1884['Target'] == 0]"
      ],
      "execution_count": null,
      "outputs": [
        {
          "output_type": "execute_result",
          "data": {
            "text/html": [
              "<div>\n",
              "<style scoped>\n",
              "    .dataframe tbody tr th:only-of-type {\n",
              "        vertical-align: middle;\n",
              "    }\n",
              "\n",
              "    .dataframe tbody tr th {\n",
              "        vertical-align: top;\n",
              "    }\n",
              "\n",
              "    .dataframe thead th {\n",
              "        text-align: right;\n",
              "    }\n",
              "</style>\n",
              "<table border=\"1\" class=\"dataframe\">\n",
              "  <thead>\n",
              "    <tr style=\"text-align: right;\">\n",
              "      <th></th>\n",
              "      <th>Duration</th>\n",
              "      <th>SourceIP</th>\n",
              "      <th>DestinationIP</th>\n",
              "      <th>Protocol</th>\n",
              "      <th>Length</th>\n",
              "      <th>Target</th>\n",
              "      <th>SourcePort</th>\n",
              "      <th>DestinationPort</th>\n",
              "      <th>InfoLength</th>\n",
              "    </tr>\n",
              "  </thead>\n",
              "  <tbody>\n",
              "    <tr>\n",
              "      <th>2</th>\n",
              "      <td>0.000000</td>\n",
              "      <td>aaaa::c30c:0:0:2</td>\n",
              "      <td>aaaa::1</td>\n",
              "      <td>UDP</td>\n",
              "      <td>70</td>\n",
              "      <td>0</td>\n",
              "      <td>1884</td>\n",
              "      <td>1884</td>\n",
              "      <td>22</td>\n",
              "    </tr>\n",
              "    <tr>\n",
              "      <th>3</th>\n",
              "      <td>0.001202</td>\n",
              "      <td>aaaa::1</td>\n",
              "      <td>aaaa::c30c:0:0:2</td>\n",
              "      <td>UDP</td>\n",
              "      <td>51</td>\n",
              "      <td>0</td>\n",
              "      <td>1884</td>\n",
              "      <td>1884</td>\n",
              "      <td>3</td>\n",
              "    </tr>\n",
              "    <tr>\n",
              "      <th>4</th>\n",
              "      <td>0.048071</td>\n",
              "      <td>aaaa::c30c:0:0:2</td>\n",
              "      <td>aaaa::1</td>\n",
              "      <td>UDP</td>\n",
              "      <td>62</td>\n",
              "      <td>0</td>\n",
              "      <td>1884</td>\n",
              "      <td>1884</td>\n",
              "      <td>14</td>\n",
              "    </tr>\n",
              "    <tr>\n",
              "      <th>5</th>\n",
              "      <td>0.000083</td>\n",
              "      <td>aaaa::1</td>\n",
              "      <td>aaaa::c30c:0:0:2</td>\n",
              "      <td>UDP</td>\n",
              "      <td>55</td>\n",
              "      <td>0</td>\n",
              "      <td>1884</td>\n",
              "      <td>1884</td>\n",
              "      <td>7</td>\n",
              "    </tr>\n",
              "    <tr>\n",
              "      <th>6</th>\n",
              "      <td>0.046185</td>\n",
              "      <td>aaaa::c30c:0:0:2</td>\n",
              "      <td>aaaa::1</td>\n",
              "      <td>UDP</td>\n",
              "      <td>62</td>\n",
              "      <td>0</td>\n",
              "      <td>1884</td>\n",
              "      <td>1884</td>\n",
              "      <td>14</td>\n",
              "    </tr>\n",
              "    <tr>\n",
              "      <th>...</th>\n",
              "      <td>...</td>\n",
              "      <td>...</td>\n",
              "      <td>...</td>\n",
              "      <td>...</td>\n",
              "      <td>...</td>\n",
              "      <td>...</td>\n",
              "      <td>...</td>\n",
              "      <td>...</td>\n",
              "      <td>...</td>\n",
              "    </tr>\n",
              "    <tr>\n",
              "      <th>45103</th>\n",
              "      <td>0.357342</td>\n",
              "      <td>aaaa::c30c:0:0:2</td>\n",
              "      <td>aaaa::1</td>\n",
              "      <td>UDP</td>\n",
              "      <td>70</td>\n",
              "      <td>0</td>\n",
              "      <td>1884</td>\n",
              "      <td>1884</td>\n",
              "      <td>22</td>\n",
              "    </tr>\n",
              "    <tr>\n",
              "      <th>45104</th>\n",
              "      <td>0.106963</td>\n",
              "      <td>aaaa::c30c:0:0:4</td>\n",
              "      <td>aaaa::1</td>\n",
              "      <td>UDP</td>\n",
              "      <td>70</td>\n",
              "      <td>0</td>\n",
              "      <td>1884</td>\n",
              "      <td>1884</td>\n",
              "      <td>22</td>\n",
              "    </tr>\n",
              "    <tr>\n",
              "      <th>45105</th>\n",
              "      <td>0.548673</td>\n",
              "      <td>aaaa::c30c:0:0:3</td>\n",
              "      <td>aaaa::1</td>\n",
              "      <td>UDP</td>\n",
              "      <td>70</td>\n",
              "      <td>0</td>\n",
              "      <td>1884</td>\n",
              "      <td>1884</td>\n",
              "      <td>22</td>\n",
              "    </tr>\n",
              "    <tr>\n",
              "      <th>45106</th>\n",
              "      <td>0.338235</td>\n",
              "      <td>aaaa::c30c:0:0:2</td>\n",
              "      <td>aaaa::1</td>\n",
              "      <td>UDP</td>\n",
              "      <td>70</td>\n",
              "      <td>0</td>\n",
              "      <td>1884</td>\n",
              "      <td>1884</td>\n",
              "      <td>22</td>\n",
              "    </tr>\n",
              "    <tr>\n",
              "      <th>45107</th>\n",
              "      <td>0.118410</td>\n",
              "      <td>aaaa::c30c:0:0:4</td>\n",
              "      <td>aaaa::1</td>\n",
              "      <td>UDP</td>\n",
              "      <td>70</td>\n",
              "      <td>0</td>\n",
              "      <td>1884</td>\n",
              "      <td>1884</td>\n",
              "      <td>22</td>\n",
              "    </tr>\n",
              "  </tbody>\n",
              "</table>\n",
              "<p>45098 rows × 9 columns</p>\n",
              "</div>"
            ],
            "text/plain": [
              "       Duration          SourceIP  ... DestinationPort InfoLength\n",
              "2      0.000000  aaaa::c30c:0:0:2  ...            1884         22\n",
              "3      0.001202           aaaa::1  ...            1884          3\n",
              "4      0.048071  aaaa::c30c:0:0:2  ...            1884         14\n",
              "5      0.000083           aaaa::1  ...            1884          7\n",
              "6      0.046185  aaaa::c30c:0:0:2  ...            1884         14\n",
              "...         ...               ...  ...             ...        ...\n",
              "45103  0.357342  aaaa::c30c:0:0:2  ...            1884         22\n",
              "45104  0.106963  aaaa::c30c:0:0:4  ...            1884         22\n",
              "45105  0.548673  aaaa::c30c:0:0:3  ...            1884         22\n",
              "45106  0.338235  aaaa::c30c:0:0:2  ...            1884         22\n",
              "45107  0.118410  aaaa::c30c:0:0:4  ...            1884         22\n",
              "\n",
              "[45098 rows x 9 columns]"
            ]
          },
          "metadata": {
            "tags": []
          },
          "execution_count": 24
        }
      ]
    },
    {
      "cell_type": "code",
      "metadata": {
        "id": "7ykczlGHBqaN"
      },
      "source": [
        "benign_data, benign_target, udp_flood_data, udp_flood_target=create_data_and_target(dataset_as_dataframe)"
      ],
      "execution_count": null,
      "outputs": []
    },
    {
      "cell_type": "code",
      "metadata": {
        "colab": {
          "base_uri": "https://localhost:8080/"
        },
        "id": "OaqPOCUzFZ8V",
        "outputId": "85bb7f82-1ddc-4bc6-f3eb-1f3bd9aaf727"
      },
      "source": [
        "benign_data"
      ],
      "execution_count": null,
      "outputs": [
        {
          "output_type": "execute_result",
          "data": {
            "text/plain": [
              "array([[0.0, 1, 0, ..., '1884', '1884', '22'],\n",
              "       [0.0012019999999992592, 0, 1, ..., '1884', '1884', '3'],\n",
              "       [0.04807067699999834, 1, 0, ..., '1884', '1884', '14'],\n",
              "       ...,\n",
              "       [0.5379910339997878, 6, 4, ..., '9022', '9022', '22'],\n",
              "       [0.3393703760002609, 5, 4, ..., '9022', '9022', '22'],\n",
              "       [0.1159420260000843, 7, 4, ..., '9022', '9022', '22']],\n",
              "      dtype=object)"
            ]
          },
          "metadata": {
            "tags": []
          },
          "execution_count": 26
        }
      ]
    },
    {
      "cell_type": "code",
      "metadata": {
        "id": "RJBzn-wMULMt",
        "colab": {
          "base_uri": "https://localhost:8080/"
        },
        "outputId": "004114d9-7b45-4543-9453-e4325ac37e8a"
      },
      "source": [
        "target_names=np.array(['benign', 'malicious'])\n",
        "target_names"
      ],
      "execution_count": null,
      "outputs": [
        {
          "output_type": "execute_result",
          "data": {
            "text/plain": [
              "array(['benign', 'malicious'], dtype='<U9')"
            ]
          },
          "metadata": {
            "tags": []
          },
          "execution_count": 27
        }
      ]
    },
    {
      "cell_type": "code",
      "metadata": {
        "id": "eZ8ETfwEUWFZ",
        "colab": {
          "base_uri": "https://localhost:8080/"
        },
        "outputId": "b53d1f11-ad03-4b43-88e4-4d5beceb869a"
      },
      "source": [
        "feature_names=np.array(clean_benign_1884.columns.values.tolist())\n",
        "feature_names"
      ],
      "execution_count": null,
      "outputs": [
        {
          "output_type": "execute_result",
          "data": {
            "text/plain": [
              "array(['Duration', 'SourceIP', 'DestinationIP', 'Protocol', 'Length',\n",
              "       'Target', 'SourcePort', 'DestinationPort', 'InfoLength'],\n",
              "      dtype='<U15')"
            ]
          },
          "metadata": {
            "tags": []
          },
          "execution_count": 28
        }
      ]
    },
    {
      "cell_type": "code",
      "metadata": {
        "id": "_ILE-ktbYcYw"
      },
      "source": [
        "data=[]\n",
        "data.extend(benign_data.tolist())\n",
        "data.extend(udp_flood_data.tolist())\n",
        "data=np.array(data)"
      ],
      "execution_count": null,
      "outputs": []
    },
    {
      "cell_type": "code",
      "metadata": {
        "id": "nO0U6-cVZPof",
        "colab": {
          "base_uri": "https://localhost:8080/"
        },
        "outputId": "62470a33-f66a-4806-ee14-d15e072415b3"
      },
      "source": [
        "data.shape"
      ],
      "execution_count": null,
      "outputs": [
        {
          "output_type": "execute_result",
          "data": {
            "text/plain": [
              "(262737, 8)"
            ]
          },
          "metadata": {
            "tags": []
          },
          "execution_count": 30
        }
      ]
    },
    {
      "cell_type": "code",
      "metadata": {
        "id": "gPh4eUfjY-3r"
      },
      "source": [
        "target=[]\n",
        "target.extend(benign_target.tolist())\n",
        "target.extend(udp_flood_target.tolist())\n",
        "target=np.array(target)"
      ],
      "execution_count": null,
      "outputs": []
    },
    {
      "cell_type": "code",
      "metadata": {
        "id": "fbuylGi_ZJwJ",
        "colab": {
          "base_uri": "https://localhost:8080/"
        },
        "outputId": "12b5b496-2c01-4498-e56b-433b00bf9fcc"
      },
      "source": [
        "target.shape"
      ],
      "execution_count": null,
      "outputs": [
        {
          "output_type": "execute_result",
          "data": {
            "text/plain": [
              "(262737,)"
            ]
          },
          "metadata": {
            "tags": []
          },
          "execution_count": 32
        }
      ]
    },
    {
      "cell_type": "code",
      "metadata": {
        "id": "hO5OjinAcYSs"
      },
      "source": [
        "shuffled_data, shuffled_target=shuffle(data, target, random_state=1)"
      ],
      "execution_count": null,
      "outputs": []
    },
    {
      "cell_type": "code",
      "metadata": {
        "id": "dXbwdhKrZRtn"
      },
      "source": [
        "dataset={\n",
        "    'data': shuffled_data,\n",
        "    'feature_names': feature_names,\n",
        "    'target': shuffled_target,\n",
        "    'target_names': target_names,\n",
        "}"
      ],
      "execution_count": null,
      "outputs": []
    },
    {
      "cell_type": "code",
      "metadata": {
        "id": "9hW67QUMZlyO",
        "colab": {
          "base_uri": "https://localhost:8080/"
        },
        "outputId": "e5509fd0-58ff-4361-88f5-77ab954c4cb3"
      },
      "source": [
        "dataset"
      ],
      "execution_count": null,
      "outputs": [
        {
          "output_type": "execute_result",
          "data": {
            "text/plain": [
              "{'data': array([['0.11406342000009317', '3', '0', ..., '9022', '9022', '22'],\n",
              "        ['7.354699999950753e-05', '0', '0', ..., '49667', '10231', '1024'],\n",
              "        ['0.00012250500000732245', '1', '1', ..., '40472', '60001',\n",
              "         '1024'],\n",
              "        ...,\n",
              "        ['0.00012922099999990166', '0', '0', ..., '34506', '10231',\n",
              "         '1024'],\n",
              "        ['5.615499958366854e-05', '0', '3', ..., '9022', '9022', '2'],\n",
              "        ['0.0001315749999974969', '0', '0', ..., '41798', '10231', '1024']],\n",
              "       dtype='<U32'),\n",
              " 'feature_names': array(['Duration', 'SourceIP', 'DestinationIP', 'Protocol', 'Length',\n",
              "        'Target', 'SourcePort', 'DestinationPort', 'InfoLength'],\n",
              "       dtype='<U15'),\n",
              " 'target': array([0, 1, 1, ..., 1, 0, 1]),\n",
              " 'target_names': array(['benign', 'malicious'], dtype='<U9')}"
            ]
          },
          "metadata": {
            "tags": []
          },
          "execution_count": 35
        }
      ]
    },
    {
      "cell_type": "code",
      "metadata": {
        "id": "EESuJzp8aTEx"
      },
      "source": [
        "X_train, X_test, y_train, y_test = train_test_split(dataset['data'], dataset['target'], test_size=0.3,random_state=109)"
      ],
      "execution_count": null,
      "outputs": []
    },
    {
      "cell_type": "markdown",
      "metadata": {
        "id": "_SlEeDsUaEeJ"
      },
      "source": [
        "#Create SVM"
      ]
    },
    {
      "cell_type": "code",
      "metadata": {
        "id": "c2GZajTtaF9T"
      },
      "source": [
        "#imports\n",
        "from sklearn import svm"
      ],
      "execution_count": null,
      "outputs": []
    },
    {
      "cell_type": "code",
      "metadata": {
        "id": "FoAbegUhdjbY"
      },
      "source": [
        "from sklearn import metrics"
      ],
      "execution_count": null,
      "outputs": []
    },
    {
      "cell_type": "code",
      "metadata": {
        "id": "at1bkNZ3HixQ",
        "colab": {
          "base_uri": "https://localhost:8080/"
        },
        "outputId": "1c2ad982-3f70-4f73-8779-ab3842de1751"
      },
      "source": [
        "len(dataset['data'])"
      ],
      "execution_count": null,
      "outputs": [
        {
          "output_type": "execute_result",
          "data": {
            "text/plain": [
              "262737"
            ]
          },
          "metadata": {
            "tags": []
          },
          "execution_count": 39
        }
      ]
    },
    {
      "cell_type": "code",
      "metadata": {
        "id": "dpa4jSGBHks7",
        "colab": {
          "base_uri": "https://localhost:8080/"
        },
        "outputId": "4f3ad75b-ba76-4f9f-b5f1-fb4fa18c7f7d"
      },
      "source": [
        "dataset['target'][:6]"
      ],
      "execution_count": null,
      "outputs": [
        {
          "output_type": "execute_result",
          "data": {
            "text/plain": [
              "array([0, 1, 1, 0, 1, 0])"
            ]
          },
          "metadata": {
            "tags": []
          },
          "execution_count": 40
        }
      ]
    },
    {
      "cell_type": "code",
      "metadata": {
        "id": "-EQ5Q3MzGujc",
        "colab": {
          "base_uri": "https://localhost:8080/"
        },
        "outputId": "99473a41-a135-4fcf-eaee-d68cde8640d9"
      },
      "source": [
        "X_test.shape"
      ],
      "execution_count": null,
      "outputs": [
        {
          "output_type": "execute_result",
          "data": {
            "text/plain": [
              "(78822, 8)"
            ]
          },
          "metadata": {
            "tags": []
          },
          "execution_count": 41
        }
      ]
    },
    {
      "cell_type": "code",
      "metadata": {
        "id": "4oCtHzVAG1Bs",
        "colab": {
          "base_uri": "https://localhost:8080/"
        },
        "outputId": "381d8086-31bf-470d-d9b4-8d422bcf1bea"
      },
      "source": [
        "y_test.shape"
      ],
      "execution_count": null,
      "outputs": [
        {
          "output_type": "execute_result",
          "data": {
            "text/plain": [
              "(78822,)"
            ]
          },
          "metadata": {
            "tags": []
          },
          "execution_count": 42
        }
      ]
    },
    {
      "cell_type": "code",
      "metadata": {
        "id": "No0vbb-Nbdcn",
        "colab": {
          "base_uri": "https://localhost:8080/"
        },
        "outputId": "8b0a3aeb-d892-4c4b-f253-56bc97ac23dd"
      },
      "source": [
        "X_train.shape"
      ],
      "execution_count": null,
      "outputs": [
        {
          "output_type": "execute_result",
          "data": {
            "text/plain": [
              "(183915, 8)"
            ]
          },
          "metadata": {
            "tags": []
          },
          "execution_count": 43
        }
      ]
    },
    {
      "cell_type": "code",
      "metadata": {
        "id": "7g4sthlPHsBD",
        "colab": {
          "base_uri": "https://localhost:8080/"
        },
        "outputId": "c10d3039-d575-4046-fb42-8422140c40a1"
      },
      "source": [
        "y_train.shape"
      ],
      "execution_count": null,
      "outputs": [
        {
          "output_type": "execute_result",
          "data": {
            "text/plain": [
              "(183915,)"
            ]
          },
          "metadata": {
            "tags": []
          },
          "execution_count": 44
        }
      ]
    },
    {
      "cell_type": "code",
      "metadata": {
        "id": "1p6p_CVxdGrd"
      },
      "source": [
        "#create classifier\n",
        "classifier=svm.SVC(kernel='linear')\n",
        "\n",
        "#use training sets to train model\n",
        "classified=classifier.fit(X_train, y_train)\n",
        "\n",
        "#predict\n",
        "predictions=classifier.predict(X_test)"
      ],
      "execution_count": null,
      "outputs": []
    },
    {
      "cell_type": "code",
      "metadata": {
        "colab": {
          "base_uri": "https://localhost:8080/",
          "height": 71
        },
        "id": "VQ7Zj-vkenX9",
        "outputId": "ff04e215-e7e1-4708-cc4e-51cff8c5510a"
      },
      "source": [
        "metrics.classification_report(y_test, predictions, target_names=['Benign', 'Malicious'])"
      ],
      "execution_count": null,
      "outputs": [
        {
          "output_type": "execute_result",
          "data": {
            "application/vnd.google.colaboratory.intrinsic+json": {
              "type": "string"
            },
            "text/plain": [
              "'              precision    recall  f1-score   support\\n\\n      Benign       1.00      1.00      1.00     33435\\n   Malicious       1.00      1.00      1.00     45387\\n\\n    accuracy                           1.00     78822\\n   macro avg       1.00      1.00      1.00     78822\\nweighted avg       1.00      1.00      1.00     78822\\n'"
            ]
          },
          "metadata": {
            "tags": []
          },
          "execution_count": 46
        }
      ]
    },
    {
      "cell_type": "code",
      "metadata": {
        "colab": {
          "base_uri": "https://localhost:8080/"
        },
        "id": "5tvJ9DHLnY73",
        "outputId": "08f75261-faa2-499d-ad8f-16299ebdbd69"
      },
      "source": [
        "print(metrics.classification_report(y_test, predictions, target_names=['Benign', 'Malicious']))\n",
        "print(\"Accuracy:\", metrics.accuracy_score(y_test, predictions))"
      ],
      "execution_count": null,
      "outputs": [
        {
          "output_type": "stream",
          "text": [
            "              precision    recall  f1-score   support\n",
            "\n",
            "      Benign       1.00      1.00      1.00     33435\n",
            "   Malicious       1.00      1.00      1.00     45387\n",
            "\n",
            "    accuracy                           1.00     78822\n",
            "   macro avg       1.00      1.00      1.00     78822\n",
            "weighted avg       1.00      1.00      1.00     78822\n",
            "\n",
            "Accuracy: 1.0\n"
          ],
          "name": "stdout"
        }
      ]
    },
    {
      "cell_type": "code",
      "metadata": {
        "colab": {
          "base_uri": "https://localhost:8080/"
        },
        "id": "2OVQa6tBc9nn",
        "outputId": "4d1d4a19-85f7-48c1-fd4a-11d9c7b69b60"
      },
      "source": [
        "benign_conf, malicious_conf=metrics.confusion_matrix(y_test, predictions)\n",
        "\n",
        "print(\"\\t   {}    {}\\n\".format(\"Benign\", \"Malicious\"))\n",
        "print(\"   Benign   {}            {}\".format(benign_conf[0], benign_conf[1]))\n",
        "print(\"Malicious       {}        {}\".format(malicious_conf[0], malicious_conf[1]))"
      ],
      "execution_count": null,
      "outputs": [
        {
          "output_type": "stream",
          "text": [
            "\t   Benign    Malicious\n",
            "\n",
            "   Benign   33435            0\n",
            "Malicious       0        45387\n"
          ],
          "name": "stdout"
        }
      ]
    },
    {
      "cell_type": "code",
      "metadata": {
        "id": "9wW7ZidEdZBU"
      },
      "source": [
        "print(\"Accuracy:\", metrics.accuracy_score(y_test, predictions))"
      ],
      "execution_count": null,
      "outputs": []
    },
    {
      "cell_type": "markdown",
      "metadata": {
        "id": "zlFn4PjUFLXb"
      },
      "source": [
        "#Testing "
      ]
    },
    {
      "cell_type": "code",
      "metadata": {
        "id": "_-82xj989hAx"
      },
      "source": [
        "#convert \n",
        "def categorical_to_numeric(df):\n",
        "  df['Protocol'] = LabelEncoder().fit_transform(df.Protocol.values)\n",
        "  tmp=pd.DataFrame(columns=['SourceIP', 'DestinationIP'])\n",
        "  tmp['SourceIP']=df['SourceIP']\n",
        "  tmp['DestinationIP']=df['DestinationIP']\n",
        "  LabelEncoder().fit(tmp.stack().unique())\n",
        "  df['SourceIP'] = LabelEncoder().fit_transform(tmp.SourceIP.values)\n",
        "  df['DestinationIP'] = LabelEncoder().fit_transform(tmp.DestinationIP.values)\n",
        "  return df"
      ],
      "execution_count": null,
      "outputs": []
    },
    {
      "cell_type": "code",
      "metadata": {
        "id": "O_hUYZZuA8CU"
      },
      "source": [
        "x=categorical_to_numeric(clean_udpflood_10231)"
      ],
      "execution_count": null,
      "outputs": []
    },
    {
      "cell_type": "code",
      "metadata": {
        "id": "N8Ll-J8LBCl7"
      },
      "source": [
        "x."
      ],
      "execution_count": null,
      "outputs": []
    },
    {
      "cell_type": "code",
      "metadata": {
        "id": "9GRfmrxb1c89"
      },
      "source": [
        "f=pd.read_csv(open('/content/drive/My Drive/fyp_data/wireshark_benign_1884.csv'))"
      ],
      "execution_count": null,
      "outputs": []
    },
    {
      "cell_type": "code",
      "metadata": {
        "id": "dqkF4Mm51acO"
      },
      "source": [
        "df=pd.DataFrame(columns=['SourceIP', 'DestinationIP', 'Protocol'])\n"
      ],
      "execution_count": null,
      "outputs": []
    },
    {
      "cell_type": "code",
      "metadata": {
        "id": "-bMWVPzTCwed"
      },
      "source": [
        "mal=pd.DataFrame(columns=['SourceIP', 'DestinationIP', 'Protocol'])"
      ],
      "execution_count": null,
      "outputs": []
    },
    {
      "cell_type": "code",
      "metadata": {
        "id": "A7jSfoKEC0y1"
      },
      "source": [
        "mal['SourceIP']=clean_udpflood_10231.SourceIP.values\n",
        "mal['DestinationIP']=clean_udpflood_10231.DestinationIP.values\n",
        "mal['Protocol']=clean_udpflood_10231.Protocol.values\n",
        "categorical_to_numeric(mal)"
      ],
      "execution_count": null,
      "outputs": []
    },
    {
      "cell_type": "code",
      "metadata": {
        "id": "dlUUh0G4DF16"
      },
      "source": [
        "mal.SourceIP.unique()"
      ],
      "execution_count": null,
      "outputs": []
    },
    {
      "cell_type": "code",
      "metadata": {
        "id": "q54AxQro1qj2"
      },
      "source": [
        "df['SourceIP']=clean_benign_1884.SourceIP.values\n",
        "df['DestinationIP']=clean_benign_1884.DestinationIP.values\n",
        "df['Protocol']=clean_benign_1884.Protocol.values\n",
        "categorical_to_numeric(df)"
      ],
      "execution_count": null,
      "outputs": []
    },
    {
      "cell_type": "code",
      "metadata": {
        "id": "vopV_PgX7KON"
      },
      "source": [
        "list_of_dataframes=[clean_benign_1884, clean_benign_1884_2]\n",
        "dfs_to_one_list=[]\n",
        "for l in list_of_dataframes:\n",
        "  a = l\n",
        "  a_to_list=[]\n",
        "  a=a.to_numpy()\n",
        "  a_to_list=a.tolist()\n",
        "  dfs_to_one_list+=a_to_list\n",
        "\n",
        "numpy_data=np.array(dfs_to_one_list)"
      ],
      "execution_count": null,
      "outputs": []
    },
    {
      "cell_type": "code",
      "metadata": {
        "id": "mP01ATxiMpRN"
      },
      "source": [
        "wireshark_udpflood_60001_bbbb[wireshark_udpflood_60001_bbbb.Protocol=='UDP']"
      ],
      "execution_count": null,
      "outputs": []
    },
    {
      "cell_type": "code",
      "metadata": {
        "id": "w2U7ILLPD5gn"
      },
      "source": [
        "clean_benign_1884.shape"
      ],
      "execution_count": null,
      "outputs": []
    },
    {
      "cell_type": "code",
      "metadata": {
        "id": "6SeO8cOSDVm9"
      },
      "source": [
        "numpy_data.shape"
      ],
      "execution_count": null,
      "outputs": []
    },
    {
      "cell_type": "code",
      "metadata": {
        "id": "5bxt9zF09RFT"
      },
      "source": [
        "a"
      ],
      "execution_count": null,
      "outputs": []
    },
    {
      "cell_type": "code",
      "metadata": {
        "id": "mAdO0dMX2lE-"
      },
      "source": [
        "print(find_shape([clean_udpflood_10231]))\n",
        "print(clean_udpflood_10231.shape)"
      ],
      "execution_count": null,
      "outputs": []
    },
    {
      "cell_type": "code",
      "metadata": {
        "id": "UtkjI4Gjw4s_"
      },
      "source": [
        "clean_udpflood_10231.shape"
      ],
      "execution_count": null,
      "outputs": []
    },
    {
      "cell_type": "code",
      "metadata": {
        "id": "IBb0dQoMAjWs"
      },
      "source": [
        "df.head()"
      ],
      "execution_count": null,
      "outputs": []
    },
    {
      "cell_type": "code",
      "metadata": {
        "id": "gg7vRC617mGZ"
      },
      "source": [
        "df['Time'][1]"
      ],
      "execution_count": null,
      "outputs": []
    },
    {
      "cell_type": "code",
      "metadata": {
        "id": "0XqVdjfOtEkg"
      },
      "source": [
        "t=[1,2,3,4,5,6,7,8,9]\n",
        "l=[]\n",
        "print(t)\n",
        "\n",
        "for i in range(len(t)):\n",
        " l.append(t[i]-t[i-1])\n",
        "print(\"l\", l)\n",
        "time=[1,2,3, 4,5,6,7,8,9]\n"
      ],
      "execution_count": null,
      "outputs": []
    },
    {
      "cell_type": "code",
      "metadata": {
        "id": "NCpuITQPyQua"
      },
      "source": [
        "with pd.option_context('display.max_rows', None, 'display.max_columns', None):  # more options can be specified also\n",
        "    print(df)"
      ],
      "execution_count": null,
      "outputs": []
    },
    {
      "cell_type": "code",
      "metadata": {
        "id": "W5FGoXFitmC2"
      },
      "source": [
        "df=df.join(df.Info.str.split(expand=True))"
      ],
      "execution_count": null,
      "outputs": []
    },
    {
      "cell_type": "code",
      "metadata": {
        "id": "v7ql6MXCv-Nr"
      },
      "source": [
        "df.head()"
      ],
      "execution_count": null,
      "outputs": []
    },
    {
      "cell_type": "code",
      "metadata": {
        "id": "UC5Fs9KPmizY"
      },
      "source": [
        "df=pd.DataFrame(df.Info.str.split(expand=True))"
      ],
      "execution_count": null,
      "outputs": []
    },
    {
      "cell_type": "code",
      "metadata": {
        "id": "Y4JnWasLsK3p"
      },
      "source": [
        "df.head()"
      ],
      "execution_count": null,
      "outputs": []
    },
    {
      "cell_type": "code",
      "metadata": {
        "id": "aVKTvHC58RZf"
      },
      "source": [
        "clean_b=clean(wireshark_benign_1884, 0)\n",
        "\n",
        "clean_m=clean(wireshark_udpflood_10231, 1)"
      ],
      "execution_count": null,
      "outputs": []
    },
    {
      "cell_type": "code",
      "metadata": {
        "id": "Z8L3wHO68cH7"
      },
      "source": [
        "clean_b[['SourceIP', 'DestinationIP', 'SourcePort', 'DestinationPort']].head(10)"
      ],
      "execution_count": null,
      "outputs": []
    },
    {
      "cell_type": "code",
      "metadata": {
        "id": "I7_6xzvI8oGA"
      },
      "source": [
        "clean_m[['SourceIP', 'DestinationIP', 'SourcePort', 'DestinationPort']].head(10)"
      ],
      "execution_count": null,
      "outputs": []
    },
    {
      "cell_type": "code",
      "metadata": {
        "id": "5XBxVe6guifU"
      },
      "source": [
        "clean_b.columns"
      ],
      "execution_count": null,
      "outputs": []
    },
    {
      "cell_type": "code",
      "metadata": {
        "id": "5CVcUCI-uvcU"
      },
      "source": [
        "df=clean_b[['Length', 'InfoLength', 'Target']].append(clean_m[['Length', 'InfoLength', 'Target']])\n",
        "df.loc[(df.Target == 0),'Target']='Benign'\n",
        "df.loc[(df.Target == 1),'Target']='Malicious'\n",
        "df['InfoLength']=df['InfoLength'].astype(str).astype(int)"
      ],
      "execution_count": null,
      "outputs": []
    },
    {
      "cell_type": "code",
      "metadata": {
        "colab": {
          "base_uri": "https://localhost:8080/",
          "height": 406
        },
        "id": "cXW3AU6FztAr",
        "outputId": "100dc096-fea2-48a8-9093-8afd03f6c114"
      },
      "source": [
        "df"
      ],
      "execution_count": null,
      "outputs": [
        {
          "output_type": "execute_result",
          "data": {
            "text/html": [
              "<div>\n",
              "<style scoped>\n",
              "    .dataframe tbody tr th:only-of-type {\n",
              "        vertical-align: middle;\n",
              "    }\n",
              "\n",
              "    .dataframe tbody tr th {\n",
              "        vertical-align: top;\n",
              "    }\n",
              "\n",
              "    .dataframe thead th {\n",
              "        text-align: right;\n",
              "    }\n",
              "</style>\n",
              "<table border=\"1\" class=\"dataframe\">\n",
              "  <thead>\n",
              "    <tr style=\"text-align: right;\">\n",
              "      <th></th>\n",
              "      <th>Length</th>\n",
              "      <th>InfoLength</th>\n",
              "      <th>Target</th>\n",
              "    </tr>\n",
              "  </thead>\n",
              "  <tbody>\n",
              "    <tr>\n",
              "      <th>2</th>\n",
              "      <td>70</td>\n",
              "      <td>22</td>\n",
              "      <td>Benign</td>\n",
              "    </tr>\n",
              "    <tr>\n",
              "      <th>3</th>\n",
              "      <td>51</td>\n",
              "      <td>3</td>\n",
              "      <td>Benign</td>\n",
              "    </tr>\n",
              "    <tr>\n",
              "      <th>4</th>\n",
              "      <td>62</td>\n",
              "      <td>14</td>\n",
              "      <td>Benign</td>\n",
              "    </tr>\n",
              "    <tr>\n",
              "      <th>5</th>\n",
              "      <td>55</td>\n",
              "      <td>7</td>\n",
              "      <td>Benign</td>\n",
              "    </tr>\n",
              "    <tr>\n",
              "      <th>6</th>\n",
              "      <td>62</td>\n",
              "      <td>14</td>\n",
              "      <td>Benign</td>\n",
              "    </tr>\n",
              "    <tr>\n",
              "      <th>...</th>\n",
              "      <td>...</td>\n",
              "      <td>...</td>\n",
              "      <td>...</td>\n",
              "    </tr>\n",
              "    <tr>\n",
              "      <th>195571</th>\n",
              "      <td>1072</td>\n",
              "      <td>1024</td>\n",
              "      <td>Malicious</td>\n",
              "    </tr>\n",
              "    <tr>\n",
              "      <th>195572</th>\n",
              "      <td>1072</td>\n",
              "      <td>1024</td>\n",
              "      <td>Malicious</td>\n",
              "    </tr>\n",
              "    <tr>\n",
              "      <th>195573</th>\n",
              "      <td>1072</td>\n",
              "      <td>1024</td>\n",
              "      <td>Malicious</td>\n",
              "    </tr>\n",
              "    <tr>\n",
              "      <th>195574</th>\n",
              "      <td>1072</td>\n",
              "      <td>1024</td>\n",
              "      <td>Malicious</td>\n",
              "    </tr>\n",
              "    <tr>\n",
              "      <th>195575</th>\n",
              "      <td>1072</td>\n",
              "      <td>1024</td>\n",
              "      <td>Malicious</td>\n",
              "    </tr>\n",
              "  </tbody>\n",
              "</table>\n",
              "<p>240600 rows × 3 columns</p>\n",
              "</div>"
            ],
            "text/plain": [
              "        Length  InfoLength     Target\n",
              "2           70          22     Benign\n",
              "3           51           3     Benign\n",
              "4           62          14     Benign\n",
              "5           55           7     Benign\n",
              "6           62          14     Benign\n",
              "...        ...         ...        ...\n",
              "195571    1072        1024  Malicious\n",
              "195572    1072        1024  Malicious\n",
              "195573    1072        1024  Malicious\n",
              "195574    1072        1024  Malicious\n",
              "195575    1072        1024  Malicious\n",
              "\n",
              "[240600 rows x 3 columns]"
            ]
          },
          "metadata": {
            "tags": []
          },
          "execution_count": 82
        }
      ]
    },
    {
      "cell_type": "code",
      "metadata": {
        "id": "IzwqiBozuoUn"
      },
      "source": [
        "clean_m[['Length', 'InfoLength']]"
      ],
      "execution_count": null,
      "outputs": []
    }
  ]
}